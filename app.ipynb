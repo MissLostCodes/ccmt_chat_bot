{
 "cells": [
  {
   "cell_type": "code",
   "execution_count": null,
   "id": "081ea37e-8bf9-4c50-bec5-23e857f0e033",
   "metadata": {},
   "outputs": [],
   "source": []
  },
  {
   "cell_type": "code",
   "execution_count": 10,
   "id": "0a9f23e6-9ee0-4c18-a2fd-767bb2b057e6",
   "metadata": {},
   "outputs": [],
   "source": [
    "import os\n",
    "import streamlit as st\n",
    "from dotenv import load_dotenv\n",
    "from langchain_google_genai import ChatGoogleGenerativeAI\n",
    "from langchain_core.prompts import ChatPromptTemplate  \n",
    "from langchain_core.output_parsers import StrOutputParser\n",
    "from langchain_core.runnables import RunnablePassthrough \n",
    "from langchain_community.document_loaders import PyPDFLoader\n",
    "from langchain_google_genai import GoogleGenerativeAIEmbeddings\n",
    "from langchain.vectorstores import Chroma\n",
    "from langchain.text_splitter import RecursiveCharacterTextSplitter\n",
    "from langchain_core.output_parsers import StrOutputParser\n",
    "import streamlit_analytics\n",
    "import pinecone\n",
    "from langchain.vectorstores import Pinecone\n",
    "from langchain_pinecone import PineconeVectorStore\n"
   ]
  },
  {
   "cell_type": "code",
   "execution_count": 13,
   "id": "e0dfa75a-2593-49fa-88fd-c67a78aabc10",
   "metadata": {},
   "outputs": [],
   "source": [
    "# Load environment variables\n",
    "load_dotenv()\n",
    "GOOGLE_API_KEY = os.getenv(\"GOOGLE_API_KEY\")\n",
    "PINECONE_API_KEY = os.getenv(\"PINECONE_API_KEY\")\n",
    "PINECONE_INDEX_NAME = \"index1\"  "
   ]
  },
  {
   "cell_type": "markdown",
   "id": "cc97e643-d902-46d4-b0df-9458750d3838",
   "metadata": {},
   "source": [
    "## load pdfs "
   ]
  },
  {
   "cell_type": "code",
   "execution_count": 50,
   "id": "f74fb5b5-4242-4f50-9afb-e570ad91b53e",
   "metadata": {},
   "outputs": [],
   "source": [
    "# Load all PDFs\n",
    "brochure_docs = PyPDFLoader(\"ccmt_info.pdf\").load()\n",
    "flowchart_docs = PyPDFLoader(\"ccmt_flowcharts_2.pdf\").load()\n",
    "fee_docs = PyPDFLoader(\"fee_table2.pdf\").load()\n",
    "\n",
    "# Add metadata (tags)\n",
    "for doc in fee_docs:\n",
    "    doc.metadata[\"source\"] = \"fee_clean\"   \n",
    "\n",
    "for doc in brochure_docs:\n",
    "    doc.metadata[\"source\"] = \"brochure\"\n",
    "\n",
    "for doc in flowchart_docs:\n",
    "    doc.metadata[\"source\"] = \"flowchart\""
   ]
  },
  {
   "cell_type": "markdown",
   "id": "a93b7063-1573-4e5a-b4e1-45b0b353f484",
   "metadata": {},
   "source": [
    "### chunking"
   ]
  },
  {
   "cell_type": "code",
   "execution_count": 51,
   "id": "59b04300-c795-4ba0-a9e4-fa466c872cc6",
   "metadata": {},
   "outputs": [],
   "source": [
    "text_splitter = RecursiveCharacterTextSplitter(chunk_size=1000, chunk_overlap=100)\n",
    "chunks = text_splitter.split_documents(flowchart_docs + fee_docs + brochure_docs )\n",
    "\n"
   ]
  },
  {
   "cell_type": "code",
   "execution_count": null,
   "id": "4406aa32-7a17-4695-8300-8c0b86bd44f0",
   "metadata": {},
   "outputs": [],
   "source": []
  },
  {
   "cell_type": "code",
   "execution_count": 52,
   "id": "4059fb75-c167-4c10-b120-d7a8b967205d",
   "metadata": {},
   "outputs": [],
   "source": [
    "import re\n",
    "\n",
    "def clean_text(text):\n",
    "    # Remove invalid surrogate characters\n",
    "    text = text.encode('utf-8', 'ignore').decode('utf-8', 'ignore')\n",
    "    # Optional: Remove emojis or other symbols\n",
    "    text = re.sub(r'[^\\x00-\\x7F]+', ' ', text)\n",
    "    return text\n",
    "\n",
    "# Apply to chunks\n",
    "for doc in chunks:\n",
    "    doc.page_content = clean_text(doc.page_content)\n"
   ]
  },
  {
   "cell_type": "code",
   "execution_count": 53,
   "id": "78708f31-ed74-4d73-8b47-1b779b88d446",
   "metadata": {},
   "outputs": [
    {
     "name": "stdout",
     "output_type": "stream",
     "text": [
      "Type of variable: <class 'list'>\n",
      "\n",
      "Type of each object inside the list: <class 'langchain_core.documents.base.Document'>\n",
      "\n",
      "Total number of documents inside list: 162\n",
      "\n",
      "* Content of first chunk: page_content='linearly mapped to a 10-point scale. \n",
      "  In case, the result of qualifying degree is awaited, provisional admission is permitted \n",
      "to a candidate subject to meeting  above minimum qualifying degree requirements \n",
      "latest by September 30, 2025. In these cases, all exams should have been completed \n",
      "by August 15, 202 5. A certificate from the Head of the current institute (format \n",
      "given on the CCMT website) to that effect should be submitted during document \n",
      "verification. \n",
      "  For each programme, eligibility is defined based on certain combinations of degree- \n",
      "disciplines and GATE paper. Please refer to CCMT website \n",
      "https://ccmt.admissions.nic.in for the seat matrix and eligibility matrix, which \n",
      "provides the number of seats available under different categories in each \n",
      "programme. \n",
      "  For certain programmes in few participating Institutes, special eligibility criteria are \n",
      "applicable (given on CCMT website). Eligibility against these special requirements' metadata={'producer': 'Microsoft® Word 2013', 'creator': 'Microsoft® Word 2013', 'creationdate': '2025-05-13T18:01:36+05:30', 'author': 'CCMT', 'moddate': '2025-05-13T18:01:36+05:30', 'source': 'brochure', 'total_pages': 49, 'page': 9, 'page_label': '10'}\n",
      "\n",
      "* Content of second chunk: page_content='admission fee i.e. the difference between the total fee of the allotted institute and online   \n",
      "fee deposited by the candidate at the CCMT portal (excluding the registration fee of regular  \n",
      "rounds/special rounds/ NSR, as applicable) to the respective allotted Institute in the mode  \n",
      "prescribed by them on their respective website (Tentative fee structure of all PIs is given  on \n",
      "the CCMT website).  \n",
      "The PwD candidates will be required to undergo the medical examination by the medical \n",
      "board of the allotted institute. Based on the medical examination, if the medical board finds \n",
      "the candidate ineligible for PwD category, her/his seat may be cancelled. \n",
      "As an outcome of successful reporting and physical document verification at the finally  \n",
      " \n",
      "attending the classes as per the schedule of the respective Institute.  \n",
      "If a candidate fails to report (due to any reason) at the allotted institute as per the schedule \n",
      "mentioned on CCMT website, which may change due to unavoidable' metadata={'producer': 'Microsoft® Word 2013', 'creator': 'Microsoft® Word 2013', 'creationdate': '2025-05-13T18:01:36+05:30', 'author': 'CCMT', 'moddate': '2025-05-13T18:01:36+05:30', 'source': 'brochure', 'total_pages': 49, 'page': 30, 'page_label': '31'}\n",
      "\n",
      "* Content of second chunk: page_content='  You only need to re-upload documents or specify willingness again, if applicable. \n",
      "However, in each round where document verification is pending or fails, the candidate must go through the document upload and verification process again but the \n",
      "SAF from previous valid payments will continue to apply. \n",
      " \n",
      " \n",
      " Regular Rounds (Round 1 to Round 3) \n",
      "  Round 1 \n",
      "After choices are locked, the Round 1 seat allotment takes place. Two possibilities arise: \n",
      "  If no seat is allotted: The candidate automatically proceeds to Round 2 and must wait for the next allotment. \n",
      "  If a seat is allotted: The candidate is required to complete three critical steps: \n",
      "1. Pay the Seat Acceptance Fee (SAF). \n",
      "2. Specify willingness as either: \n",
      "  Freeze: To retain the allotted seat and exit future rounds. \n",
      "  Float: To accept the seat but be considered for better choices in future rounds (same institute). \n",
      "  Slide: To accept the seat but be considered for better choices in different institutes.' metadata={'producer': 'Microsoft® Office Word 2007', 'creator': 'Microsoft® Office Word 2007', 'creationdate': 'D:20250610100451', 'author': 'Shagun Gupta', 'moddate': 'D:20250610100451', 'source': 'flowchart', 'total_pages': 15, 'page': 0, 'page_label': '1'}\n"
     ]
    }
   ],
   "source": [
    "print(\"Type of variable:\", type(chunks))\n",
    "print()\n",
    "print(\"Type of each object inside the list:\", type(chunks[0]))\n",
    "print()\n",
    "print(\"Total number of documents inside list:\", len(chunks))\n",
    "print()\n",
    "print(\"* Content of first chunk:\", chunks[60])\n",
    "print()\n",
    "print(\"* Content of second chunk:\", chunks[125])\n",
    "print()\n",
    "print(\"* Content of second chunk:\", chunks[1])"
   ]
  },
  {
   "cell_type": "code",
   "execution_count": 54,
   "id": "c086ec16-bede-4ebf-8bb9-84ac5beacd44",
   "metadata": {},
   "outputs": [],
   "source": [
    "embedding = GoogleGenerativeAIEmbeddings(model=\"models/embedding-001\" , google_api_key=GOOGLE_API_KEY)\n",
    "\n",
    "\n",
    "index_name = PINECONE_INDEX_NAME\n",
    "\n"
   ]
  },
  {
   "cell_type": "markdown",
   "id": "d290670e-e54b-49c8-abb1-04c473411fda",
   "metadata": {},
   "source": [
    "# pinecone initialization code \n",
    "'from pinecone import Pinecone, ServerlessSpec\n",
    "import time\n",
    "\n",
    "pc = Pinecone(api_key=os.environ.get(\"PINECONE_API_KEY\"))\n",
    "\n",
    "cloud = os.environ.get('PINECONE_CLOUD') or 'aws'\n",
    "region = os.environ.get('PINECONE_REGION') or 'us-east-1'\n",
    "spec = ServerlessSpec(cloud=cloud, region=region)\n",
    "\n",
    "index_name = PINECONE_INDEX_NAME\n",
    "\n",
    "if index_name not in pc.list_indexes().names():\n",
    "    pc.create_index(\n",
    "        name=index_name,\n",
    "        dimension=embeddings.dimension,\n",
    "        metric=\"cosine\",\n",
    "        spec=spec\n",
    "    )\n",
    "index = pc.Index(index_name)\n",
    "for i, chunk in enumerate(chunks):\n",
    "    vector = embedding.embed_query(chunk.page_content)\n",
    "    index.upsert([\n",
    "        {\n",
    "            \"id\": f\"ccmt-chunk-{i}\",\n",
    "            \"values\": vector,\n",
    "            \"metadata\": {\"text\": chunk.page_content}\n",
    "        }\n",
    "    ])\n",
    "\n",
    "\n",
    "\n",
    "\n",
    "namespace = \"wondervector5000\"\n",
    "\n",
    "vectordb = PineconeVectorStore.from_documents(\n",
    "    documents=chunks,\n",
    "    index_name=index_name,\n",
    "    embedding=embedding,\n",
    "    namespace=namespace\n",
    "   \n",
    ")\n",
    "\n",
    "print(\"Index before upsert:\")\n",
    "print(pc.Index(index_name).describe_index_stats())\n",
    "print(\"\\n\") '"
   ]
  },
  {
   "cell_type": "code",
   "execution_count": null,
   "id": "2ab357a1-5001-471e-b912-0355468958ae",
   "metadata": {},
   "outputs": [],
   "source": []
  },
  {
   "cell_type": "code",
   "execution_count": 56,
   "id": "6e8c01fb-44a9-48ac-8a90-267e3e79cdaa",
   "metadata": {},
   "outputs": [],
   "source": [
    "namespace = \"wondervector5000\"\n",
    "\n",
    "vectordb = PineconeVectorStore.from_existing_index(\n",
    "    #documents=chunks,\n",
    "    index_name=index_name,\n",
    "    embedding=embedding,\n",
    "    namespace=namespace\n",
    "   \n",
    ")"
   ]
  },
  {
   "cell_type": "code",
   "execution_count": 57,
   "id": "7c3abaeb-4d3a-48d1-9edf-bfd123f5ecde",
   "metadata": {},
   "outputs": [],
   "source": [
    " retriever = vectordb.as_retriever(search_kwargs={\"k\": 5})"
   ]
  },
  {
   "cell_type": "code",
   "execution_count": null,
   "id": "8d6a382a-9bb7-4cfe-9219-eb899a945417",
   "metadata": {},
   "outputs": [],
   "source": []
  },
  {
   "cell_type": "markdown",
   "id": "ce8537ba-1ab5-4b18-9251-c5bf02c4111c",
   "metadata": {},
   "source": [
    "## rag chain "
   ]
  },
  {
   "cell_type": "code",
   "execution_count": 58,
   "id": "63339949-465e-448e-8c89-0c65d653e6c6",
   "metadata": {},
   "outputs": [],
   "source": [
    "PROMPT_TEMPLATE = \"\"\"\n",
    "The user is a candidate\n",
    "You are a helpful CCMT counseling assistant.\n",
    "Always provide complete answers.\n",
    "Never reply with vague phrases like \"refer to the table\" or \"see section\".\n",
    "Include exact fee amounts, names, and explanations when available.\n",
    "Answer the question based only on the following context:\n",
    "{context}\n",
    "Answer the question based on the above context: {question}.\n",
    "Provide a detailed answer.\n",
    "Don’t justify your answers.\n",
    "Do not say \"according to the context\" or \"mentioned in the context\" or similar.\n",
    "\"\"\"\n",
    "\n",
    "prompt_template = ChatPromptTemplate.from_template(PROMPT_TEMPLATE)"
   ]
  },
  {
   "cell_type": "code",
   "execution_count": 59,
   "id": "e4dd0ae1-b9fc-4377-845b-dfa74c85d559",
   "metadata": {},
   "outputs": [],
   "source": [
    "chat_model=ChatGoogleGenerativeAI(api_key=GOOGLE_API_KEY , model='gemini-2.0-flash-exp')\n",
    "parser = StrOutputParser()"
   ]
  },
  {
   "cell_type": "markdown",
   "id": "067f6787-008a-4a42-b781-dd08c02ab945",
   "metadata": {},
   "source": [
    "### retriever: A vector retriever (e.g., FAISS or Chroma) — returns the most relevant k documents based on similarity to the question.\n",
    "### format_docs: A function to convert those document objects into a single formatted string (so it can go into the prompt)."
   ]
  },
  {
   "cell_type": "code",
   "execution_count": 60,
   "id": "3e0d449a-100d-406b-9fa8-f0792b4a5607",
   "metadata": {},
   "outputs": [],
   "source": [
    "def format_docs(docs):\n",
    "    return \"\\n\\n\".join(doc.page_content for doc in docs)"
   ]
  },
  {
   "cell_type": "code",
   "execution_count": 61,
   "id": "62597a72-adda-4d29-a1f1-16b67a3c13f4",
   "metadata": {},
   "outputs": [],
   "source": [
    "rag_chain = {\"context\": retriever | format_docs , \"question\": RunnablePassthrough()} | prompt_template | chat_model | parser"
   ]
  },
  {
   "cell_type": "markdown",
   "id": "2d39e2de-47c5-43a3-9d25-7c3514643ae9",
   "metadata": {},
   "source": [
    "## Streamlit UI\n"
   ]
  },
  {
   "cell_type": "code",
   "execution_count": 62,
   "id": "76715e23-806d-46a8-a1c6-efb17c08d726",
   "metadata": {},
   "outputs": [],
   "source": [
    "\n",
    "# Set page config at the very beginning\n",
    "st.set_page_config(page_title=\"CCMT Chatbot\", layout=\"wide\")\n",
    "\n",
    "# ----------- Unique Visit Logging Logic -------------\n",
    "COUNT_FILE = \"user_count.txt\"\n",
    "\n",
    "# Create the file if it doesn't exist\n",
    "if not os.path.exists(COUNT_FILE):\n",
    "    with open(COUNT_FILE, \"w\") as f:\n",
    "        f.write(\"\")\n",
    "\n",
    "# Only add one star per session\n",
    "if \"counted\" not in st.session_state:\n",
    "    with open(COUNT_FILE, \"a\") as f:\n",
    "        f.write(\"*\")\n",
    "    st.session_state.counted = True\n",
    "\n",
    "# Read total user count\n",
    "with open(COUNT_FILE, \"r\") as f:\n",
    "    stars = f.read()\n",
    "    total_users = stars.count(\"*\")\n",
    "\n",
    "# ----------- Main Chatbot UI ------------------------\n",
    "st.title(\"🎓 CCMT Counselling Chatbot\")\n",
    "st.markdown(\"Ask anything about CCMT rules, rounds, fees, etc...\")\n",
    "\n",
    "# Background styling (optional)\n",
    "st.markdown(\n",
    "    \"\"\"\n",
    "    <style>\n",
    "    .stApp {\n",
    "        background-image: linear-gradient(135deg, #1f1c2c, #928dab);\n",
    "        color: white;\n",
    "    }\n",
    "    </style>\n",
    "    \"\"\",\n",
    "    unsafe_allow_html=True\n",
    ")\n",
    "\n",
    "# Show unique user visits in the sidebar\n",
    "st.sidebar.markdown(f\"🌟 **Unique Visits:** {total_users}\")\n",
    "\n",
    "# User Query Input\n",
    "query = st.text_input(\"💬 Ask your question:\")\n",
    "\n",
    "# Submit button\n",
    "if st.button(\"Get Answer\"):\n",
    "    if query.strip():\n",
    "        with st.spinner(\"Thinking...\"):\n",
    "            result = rag_chain.invoke(query)\n",
    "            st.markdown(\"**Answer:**\")\n",
    "            st.write(result)\n",
    "    else:\n",
    "        st.warning(\"Please enter a question first.\")\n"
   ]
  },
  {
   "cell_type": "code",
   "execution_count": null,
   "id": "8a0a6a51-2eea-4eb4-b5e8-49034533b705",
   "metadata": {},
   "outputs": [],
   "source": []
  },
  {
   "cell_type": "code",
   "execution_count": null,
   "id": "b528daff-84ba-4216-9a39-b7769f1cbdf6",
   "metadata": {},
   "outputs": [],
   "source": []
  },
  {
   "cell_type": "code",
   "execution_count": null,
   "id": "f72d0976-3690-4c18-97d3-681e6ff159b0",
   "metadata": {},
   "outputs": [],
   "source": []
  }
 ],
 "metadata": {
  "kernelspec": {
   "display_name": "Python 3 (ipykernel)",
   "language": "python",
   "name": "python3"
  },
  "language_info": {
   "codemirror_mode": {
    "name": "ipython",
    "version": 3
   },
   "file_extension": ".py",
   "mimetype": "text/x-python",
   "name": "python",
   "nbconvert_exporter": "python",
   "pygments_lexer": "ipython3",
   "version": "3.12.7"
  }
 },
 "nbformat": 4,
 "nbformat_minor": 5
}
